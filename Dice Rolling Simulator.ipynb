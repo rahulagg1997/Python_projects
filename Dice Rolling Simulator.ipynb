{
 "cells": [
  {
   "cell_type": "code",
   "execution_count": 1,
   "metadata": {},
   "outputs": [],
   "source": [
    "import random\n"
   ]
  },
  {
   "cell_type": "code",
   "execution_count": null,
   "metadata": {},
   "outputs": [
    {
     "name": "stdout",
     "output_type": "stream",
     "text": [
      "please configure you dice\n",
      "Enter the min value rolled by the dice1\n",
      "Enter the max value rolled by the dice6\n",
      "Want to roll the dicey\n",
      "2\n",
      "Want to roll again y/ny\n",
      "1\n",
      "Want to roll again y/ny\n",
      "4\n",
      "Want to roll again y/ny\n",
      "5\n",
      "Want to roll again y/ny\n",
      "2\n",
      "Want to roll again y/ny\n",
      "4\n",
      "Want to roll again y/ny\n",
      "4\n",
      "Want to roll again y/ny\n",
      "5\n",
      "Want to roll again y/nn\n",
      "5\n"
     ]
    }
   ],
   "source": [
    "print(\"please configure you dice\")\n",
    "min_value = int(input(\"Enter the min value rolled by the dice\"))\n",
    "max_value = int(input(\"Enter the max value rolled by the dice\"))\n",
    "user_input = input(\"Want to roll the dice\")\n",
    "while(user_input == 'y'):\n",
    "    print(random.randrange(min_value, max_value,1))\n",
    "    input(\"Want to roll again y/n\")\n",
    "    "
   ]
  },
  {
   "cell_type": "code",
   "execution_count": null,
   "metadata": {},
   "outputs": [],
   "source": []
  }
 ],
 "metadata": {
  "kernelspec": {
   "display_name": "Python 3",
   "language": "python",
   "name": "python3"
  },
  "language_info": {
   "codemirror_mode": {
    "name": "ipython",
    "version": 3
   },
   "file_extension": ".py",
   "mimetype": "text/x-python",
   "name": "python",
   "nbconvert_exporter": "python",
   "pygments_lexer": "ipython3",
   "version": "3.7.3"
  }
 },
 "nbformat": 4,
 "nbformat_minor": 2
}
