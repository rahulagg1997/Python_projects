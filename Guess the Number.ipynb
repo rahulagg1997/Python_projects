{
 "cells": [
  {
   "cell_type": "code",
   "execution_count": 1,
   "metadata": {},
   "outputs": [],
   "source": [
    "import random"
   ]
  },
  {
   "cell_type": "code",
   "execution_count": 2,
   "metadata": {},
   "outputs": [],
   "source": [
    "def generate_random_number():\n",
    "    \"\"\"generate a random number between 0 to 100\"\"\"\n",
    "    return random.randrange(0,100,1)"
   ]
  },
  {
   "cell_type": "code",
   "execution_count": 4,
   "metadata": {},
   "outputs": [],
   "source": [
    "def play_game():\n",
    "    \"\"\"guess a random integer between 0 to 100 \"\"\"\n",
    "    random_number = generate_random_number()\n",
    "    chance = 0\n",
    "    while(chance<3):\n",
    "        guess_number = int(input(\"Enter a number between 0 to 100 \"))\n",
    "        if(random_number == guess_number):\n",
    "            print(\"Wow congratulation you won the game\")\n",
    "        elif(random_number > guess_number):\n",
    "            print(\"number is too low\")\n",
    "        else:\n",
    "            print(\"number is too high\")\n",
    "        chance = chance +1\n",
    "    if(chance >=3 ):\n",
    "        print(\"Sorry you have lose your all three chances\")\n",
    "    print(\"The number was \",random_number)"
   ]
  },
  {
   "cell_type": "code",
   "execution_count": null,
   "metadata": {},
   "outputs": [
    {
     "name": "stdout",
     "output_type": "stream",
     "text": [
      "Want to play a Guess game y/n y\n",
      "You will get three chance and you have to guess the correct number\n",
      "Enter a number between 0 to 100 50\n",
      "number is too high\n",
      "Enter a number between 0 to 100 25\n",
      "number is too low\n",
      "Enter a number between 0 to 100 30\n",
      "number is too low\n",
      "Sorry you have lose your all three chances\n",
      "The number was  37\n"
     ]
    }
   ],
   "source": [
    "\n",
    "user_response = input(\"Want to play a Guess game y/n \")\n",
    "while(user_response == 'y'):\n",
    "    print(\"You will get three chance and you have to guess the correct number\")\n",
    "    play_game()\n",
    "    user_response =  input(\"want to play the game again y/n \") "
   ]
  },
  {
   "cell_type": "code",
   "execution_count": null,
   "metadata": {},
   "outputs": [],
   "source": []
  }
 ],
 "metadata": {
  "kernelspec": {
   "display_name": "Python 3",
   "language": "python",
   "name": "python3"
  },
  "language_info": {
   "codemirror_mode": {
    "name": "ipython",
    "version": 3
   },
   "file_extension": ".py",
   "mimetype": "text/x-python",
   "name": "python",
   "nbconvert_exporter": "python",
   "pygments_lexer": "ipython3",
   "version": "3.7.3"
  }
 },
 "nbformat": 4,
 "nbformat_minor": 2
}
